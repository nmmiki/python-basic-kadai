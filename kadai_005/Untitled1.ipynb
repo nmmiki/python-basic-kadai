{
  "nbformat": 4,
  "nbformat_minor": 0,
  "metadata": {
    "colab": {
      "provenance": []
    },
    "kernelspec": {
      "name": "python3",
      "display_name": "Python 3"
    },
    "language_info": {
      "name": "python"
    }
  },
  "cells": [
    {
      "cell_type": "code",
      "execution_count": 5,
      "metadata": {
        "colab": {
          "base_uri": "https://localhost:8080/"
        },
        "id": "_OoAT-gaYxd-",
        "outputId": "88e4a22f-4742-4506-aa84-42b0d7a91e6f"
      },
      "outputs": [
        {
          "output_type": "stream",
          "name": "stdout",
          "text": [
            "台形の面積は75.0cm²です。\n"
          ]
        }
      ],
      "source": [
        "#上辺：10cm\n",
        "#下辺：20cm\n",
        "#高さ：5cm\n",
        "\n",
        "#公式：台形の面積 =（上辺＋下辺）× 高さ ÷ 2\n",
        "\n",
        "trapezium_area = (10 + 20) * 5 / 2\n",
        "print(f\"台形の面積は{trapezium_area}cm²です。\")"
      ]
    }
  ]
}