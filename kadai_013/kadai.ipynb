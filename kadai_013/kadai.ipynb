{
  "nbformat": 4,
  "nbformat_minor": 0,
  "metadata": {
    "colab": {
      "provenance": []
    },
    "kernelspec": {
      "name": "python3",
      "display_name": "Python 3"
    },
    "language_info": {
      "name": "python"
    }
  },
  "cells": [
    {
      "cell_type": "code",
      "source": [
        "\n",
        "def include_tax(price:int, tax:int) :\n",
        "    return (price + (price * tax/100))\n",
        "\n",
        "include_tax(100,10)\n"
      ],
      "metadata": {
        "id": "S7suhq9wnEJS",
        "colab": {
          "base_uri": "https://localhost:8080/"
        },
        "outputId": "a72f7110-e209-49ae-b6da-fed2814ca041"
      },
      "execution_count": 1,
      "outputs": [
        {
          "output_type": "execute_result",
          "data": {
            "text/plain": [
              "110.0"
            ]
          },
          "metadata": {},
          "execution_count": 1
        }
      ]
    }
  ]
}