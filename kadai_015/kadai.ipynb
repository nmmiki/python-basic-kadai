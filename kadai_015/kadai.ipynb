{
  "nbformat": 4,
  "nbformat_minor": 0,
  "metadata": {
    "colab": {
      "provenance": []
    },
    "kernelspec": {
      "name": "python3",
      "display_name": "Python 3"
    },
    "language_info": {
      "name": "python"
    }
  },
  "cells": [
    {
      "cell_type": "code",
      "source": [
        "class Human:\n",
        "    def __init__(self, name, age):\n",
        "        self.name = name\n",
        "        self.age = age\n",
        "\n",
        "    def printinfo(self):\n",
        "        print(self.name)\n",
        "        print(self.age)\n",
        "\n",
        "human = Human(\"侍花子\", 25)\n",
        "human.printinfo()\n"
      ],
      "metadata": {
        "id": "S7suhq9wnEJS",
        "colab": {
          "base_uri": "https://localhost:8080/"
        },
        "outputId": "f485a221-5a71-4930-d95e-bb343b7d28dd"
      },
      "execution_count": 4,
      "outputs": [
        {
          "output_type": "stream",
          "name": "stdout",
          "text": [
            "侍花子\n",
            "25\n"
          ]
        }
      ]
    }
  ]
}