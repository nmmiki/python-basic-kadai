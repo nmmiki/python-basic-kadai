{
  "nbformat": 4,
  "nbformat_minor": 0,
  "metadata": {
    "colab": {
      "provenance": []
    },
    "kernelspec": {
      "name": "python3",
      "display_name": "Python 3"
    },
    "language_info": {
      "name": "python"
    }
  },
  "cells": [
    {
      "cell_type": "code",
      "source": [
        "class Human:\n",
        "      def __init__(self, name, age):\n",
        "          self.name = name\n",
        "          self.age = age\n",
        "\n",
        "      def check_adult(self):\n",
        "        if self.age >= 20:\n",
        "              print (f\"{self.name}さんは大人です。\")\n",
        "        else:\n",
        "              print (f\"{self.name}さんは大人ではありません。\")\n",
        "\n",
        "humanlist = [\n",
        "        Human(\"侍太郎\", 25),\n",
        "        Human(\"侍花子\", 19),\n",
        "        Human(\"侍五右衛門\", 20)\n",
        "]\n",
        "\n",
        "for human in humanlist:\n",
        "    human.check_adult()\n"
      ],
      "metadata": {
        "id": "S7suhq9wnEJS",
        "colab": {
          "base_uri": "https://localhost:8080/"
        },
        "outputId": "a47d0a94-4d82-4e10-ce32-43d57df4e798"
      },
      "execution_count": 1,
      "outputs": [
        {
          "output_type": "stream",
          "name": "stdout",
          "text": [
            "侍太郎さんは大人です。\n",
            "侍花子さんは大人ではありません。\n",
            "侍五右衛門さんは大人です。\n"
          ]
        }
      ]
    }
  ]
}